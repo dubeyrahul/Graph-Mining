{
 "cells": [
  {
   "cell_type": "code",
   "execution_count": 27,
   "metadata": {
    "collapsed": true,
    "deletable": true,
    "editable": true
   },
   "outputs": [],
   "source": [
    "import networkx as nx\n",
    "import numpy as np\n",
    "import scipy.sparse as sparse\n",
    "import os, sys\n",
    "import random\n",
    "from collections import Counter\n",
    "import matplotlib.pyplot as plt\n",
    "%matplotlib inline"
   ]
  },
  {
   "cell_type": "code",
   "execution_count": 28,
   "metadata": {
    "collapsed": true,
    "deletable": true,
    "editable": true
   },
   "outputs": [],
   "source": [
    "init_matrix = sparse.csr_matrix([[0.99, 0.26], [0.26, 0.53]])"
   ]
  },
  {
   "cell_type": "code",
   "execution_count": 29,
   "metadata": {
    "collapsed": false,
    "deletable": true,
    "editable": true
   },
   "outputs": [],
   "source": [
    "current_matrix = init_matrix\n",
    "for i in range(11):\n",
    "    current_matrix = sparse.kron(current_matrix, init_matrix)"
   ]
  },
  {
   "cell_type": "code",
   "execution_count": 30,
   "metadata": {
    "collapsed": false,
    "deletable": true,
    "editable": true
   },
   "outputs": [
    {
     "data": {
      "text/plain": [
       "(4096, 4096)"
      ]
     },
     "execution_count": 30,
     "metadata": {},
     "output_type": "execute_result"
    }
   ],
   "source": [
    "current_matrix.shape"
   ]
  },
  {
   "cell_type": "code",
   "execution_count": 31,
   "metadata": {
    "collapsed": true
   },
   "outputs": [],
   "source": [
    "current_arr = current_matrix.toarray()"
   ]
  },
  {
   "cell_type": "code",
   "execution_count": 32,
   "metadata": {
    "collapsed": false
   },
   "outputs": [],
   "source": [
    "graph_arr = np.zeros((4096,4096))"
   ]
  },
  {
   "cell_type": "code",
   "execution_count": 33,
   "metadata": {
    "collapsed": false
   },
   "outputs": [
    {
     "data": {
      "text/plain": [
       "(4096, 4096)"
      ]
     },
     "execution_count": 33,
     "metadata": {},
     "output_type": "execute_result"
    }
   ],
   "source": [
    "graph_arr.shape"
   ]
  },
  {
   "cell_type": "code",
   "execution_count": 34,
   "metadata": {
    "collapsed": false
   },
   "outputs": [],
   "source": [
    "for i in xrange(len(current_arr)):\n",
    "    for j in xrange(len(current_arr)):\n",
    "        if random.random() < current_arr[i,j]:\n",
    "            graph_arr[i,j] = 1"
   ]
  },
  {
   "cell_type": "code",
   "execution_count": 35,
   "metadata": {
    "collapsed": true
   },
   "outputs": [],
   "source": [
    "kronecker = nx.from_numpy_matrix(graph_arr)"
   ]
  },
  {
   "cell_type": "code",
   "execution_count": 36,
   "metadata": {
    "collapsed": false
   },
   "outputs": [
    {
     "name": "stdout",
     "output_type": "stream",
     "text": [
      "Kronecker graph is connected:  False\n"
     ]
    }
   ],
   "source": [
    "print \"Kronecker graph is connected: \", nx.is_connected(kronecker)"
   ]
  },
  {
   "cell_type": "code",
   "execution_count": 70,
   "metadata": {
    "collapsed": false,
    "deletable": true,
    "editable": true
   },
   "outputs": [],
   "source": [
    "gcc_kron = max(nx.connected_component_subgraphs(kronecker), key=len)"
   ]
  },
  {
   "cell_type": "code",
   "execution_count": 71,
   "metadata": {
    "collapsed": false,
    "deletable": true,
    "editable": true
   },
   "outputs": [
    {
     "data": {
      "text/plain": [
       "networkx.classes.graph.Graph"
      ]
     },
     "execution_count": 71,
     "metadata": {},
     "output_type": "execute_result"
    }
   ],
   "source": [
    "type(gcc_kron)"
   ]
  },
  {
   "cell_type": "code",
   "execution_count": 73,
   "metadata": {
    "collapsed": false,
    "deletable": true,
    "editable": true
   },
   "outputs": [
    {
     "name": "stdout",
     "output_type": "stream",
     "text": [
      "Number of nodes in Giant Connected component of Kronecker:  3012\n"
     ]
    }
   ],
   "source": [
    "gcc_num_nodes = gcc_kron.number_of_nodes()\n",
    "print \"Number of nodes in Giant Connected component of Kronecker: \",gcc_num_nodes"
   ]
  },
  {
   "cell_type": "markdown",
   "metadata": {
    "deletable": true,
    "editable": true
   },
   "source": [
    "### => Observation: No, the GCC of Kronecker matrix does not have nodes of the order of $\\theta(n)$"
   ]
  },
  {
   "cell_type": "markdown",
   "metadata": {
    "collapsed": true,
    "deletable": true,
    "editable": true
   },
   "source": [
    "### Comparing Kronecker with real Arxiv graph"
   ]
  },
  {
   "cell_type": "code",
   "execution_count": 53,
   "metadata": {
    "collapsed": true
   },
   "outputs": [],
   "source": [
    "dir_path = os.getcwd()\n",
    "arxiv = nx.read_edgelist(dir_path+'/data/CA-GrQc.txt')"
   ]
  },
  {
   "cell_type": "markdown",
   "metadata": {},
   "source": [
    "#### Comparing distribution of connected components"
   ]
  },
  {
   "cell_type": "code",
   "execution_count": 55,
   "metadata": {
    "collapsed": false
   },
   "outputs": [],
   "source": [
    "cc_kron = nx.connected_components(kronecker)\n",
    "len_cc_kron = [len(item) for item in cc_kron]\n",
    "x_cron, y_cron = zip(*Counter(len_cc_kron).items())"
   ]
  },
  {
   "cell_type": "code",
   "execution_count": 56,
   "metadata": {
    "collapsed": true
   },
   "outputs": [],
   "source": [
    "cc = nx.connected_components(arxiv)\n",
    "len_cc = [len(item) for item in cc]\n",
    "x, y = zip(*Counter(len_cc).items())"
   ]
  },
  {
   "cell_type": "code",
   "execution_count": 59,
   "metadata": {
    "collapsed": false
   },
   "outputs": [
    {
     "data": {
      "image/png": "[encoded data removed]",
      "text/plain": [
       "<matplotlib.figure.Figure at 0x7f3bbb15f650>"
      ]
     },
     "metadata": {},
     "output_type": "display_data"
    }
   ],
   "source": [
    "fig, ax = plt.subplots()\n",
    "ax.margins(0.05)\n",
    "ax.plot(np.log10(x_cron), np.log10(y_cron), marker='o', linestyle='None')\n",
    "plt.ylabel(\"Size of connected component (log)\")\n",
    "plt.xlabel(\"Number of connected components (log)\")\n",
    "plt.title(\"Log-log plot of connected component size distribution of Kronecker graph\\n\")\n",
    "plt.show()"
   ]
  },
  {
   "cell_type": "code",
   "execution_count": 60,
   "metadata": {
    "collapsed": false
   },
   "outputs": [
    {
     "data": {
      "image/png": "[encoded data removed]",
      "text/plain": [
       "<matplotlib.figure.Figure at 0x7f3bb7a0df50>"
      ]
     },
     "metadata": {},
     "output_type": "display_data"
    }
   ],
   "source": [
    "fig, ax = plt.subplots()\n",
    "ax.margins(0.05)\n",
    "ax.plot(np.log10(x), np.log10(y), marker='o', linestyle='None')\n",
    "plt.ylabel(\"Size of connected component (log)\")\n",
    "plt.xlabel(\"Number of connected components (log)\")\n",
    "plt.title(\"Log-log plot of connected component size distribution of Original Arxiv graph\\n\")\n",
    "plt.show()"
   ]
  },
  {
   "cell_type": "markdown",
   "metadata": {},
   "source": [
    "Conclusion:\n",
    "Thus, TODO"
   ]
  },
  {
   "cell_type": "markdown",
   "metadata": {},
   "source": [
    "#### Comparing degree distribution:"
   ]
  },
  {
   "cell_type": "code",
   "execution_count": 65,
   "metadata": {
    "collapsed": true
   },
   "outputs": [],
   "source": [
    "degrees = {}\n",
    "for n in arxiv.nodes():\n",
    "    degree_n = arxiv.degree(n)\n",
    "    if degree_n not in degrees:\n",
    "        degrees[degree_n] = 0\n",
    "    degrees[degree_n] += 1"
   ]
  },
  {
   "cell_type": "code",
   "execution_count": 66,
   "metadata": {
    "collapsed": false
   },
   "outputs": [
    {
     "data": {
      "text/plain": [
       "<matplotlib.text.Text at 0x7f3bbb769e90>"
      ]
     },
     "execution_count": 66,
     "metadata": {},
     "output_type": "execute_result"
    },
    {
     "data": {
      "image/png": "[encoded data removed]",
      "text/plain": [
       "<matplotlib.figure.Figure at 0x7f3bbb912c90>"
      ]
     },
     "metadata": {},
     "output_type": "display_data"
    }
   ],
   "source": [
    "items = sorted(degrees.items())\n",
    "fig, ax = plt.subplots()\n",
    "ax.margins(0.05)\n",
    "ax.plot([np.log10(k) for (k,v) in items], [np.log10(v) for (k,v) in items])\n",
    "plt.xlabel(\"Degree in log10\")\n",
    "plt.ylabel(\"Count of degree in log 10\")\n",
    "plt.title(\"Degree distribution of Arxiv graph\")"
   ]
  },
  {
   "cell_type": "code",
   "execution_count": 68,
   "metadata": {
    "collapsed": false
   },
   "outputs": [],
   "source": [
    "degrees_kron = {}\n",
    "for n in kronecker.nodes():\n",
    "    degree_n = kronecker.degree(n)\n",
    "    if degree_n not in degrees_kron:\n",
    "        degrees_kron[degree_n] = 0\n",
    "    degrees_kron[degree_n] += 1"
   ]
  },
  {
   "cell_type": "code",
   "execution_count": 69,
   "metadata": {
    "collapsed": false
   },
   "outputs": [
    {
     "name": "stderr",
     "output_type": "stream",
     "text": [
      "/usr/local/lib/python2.7/dist-packages/ipykernel/__main__.py:4: RuntimeWarning: divide by zero encountered in log10\n"
     ]
    },
    {
     "data": {
      "text/plain": [
       "<matplotlib.text.Text at 0x7f3bbb2e3350>"
      ]
     },
     "execution_count": 69,
     "metadata": {},
     "output_type": "execute_result"
    },
    {
     "data": {
      "image/png": "[encoded data removed]",
      "text/plain": [
       "<matplotlib.figure.Figure at 0x7f3bb86dba10>"
      ]
     },
     "metadata": {},
     "output_type": "display_data"
    }
   ],
   "source": [
    "items = sorted(degrees_kron.items())\n",
    "fig, ax = plt.subplots()\n",
    "ax.margins(0.05)\n",
    "ax.plot([np.log10(k) for (k,v) in items], [np.log10(v) for (k,v) in items])\n",
    "plt.xlabel(\"Degree in log10\")\n",
    "plt.ylabel(\"Count of degree in log 10\")\n",
    "plt.title(\"Degree distribution of Kronecker graph\")"
   ]
  },
  {
   "cell_type": "markdown",
   "metadata": {},
   "source": [
    "Conclusion:\n",
    "Thus, TODO"
   ]
  },
  {
   "cell_type": "markdown",
   "metadata": {},
   "source": [
    "#### Comparing triangle distribution of GCC of both graphs"
   ]
  },
  {
   "cell_type": "code",
   "execution_count": 74,
   "metadata": {
    "collapsed": true
   },
   "outputs": [],
   "source": [
    "gcc = gcc = max(nx.connected_component_subgraphs(arxiv), key=len)\n",
    "triangles = nx.triangles(gcc)\n",
    "triangle_count = {}\n",
    "values = triangles.values()\n",
    "for val in values:\n",
    "    if val not in triangle_count:\n",
    "        triangle_count[val] = 0\n",
    "    triangle_count[val] += 1"
   ]
  },
  {
   "cell_type": "code",
   "execution_count": 79,
   "metadata": {
    "collapsed": false
   },
   "outputs": [
    {
     "data": {
      "text/plain": [
       "<matplotlib.text.Text at 0x7f3bbbd580d0>"
      ]
     },
     "execution_count": 79,
     "metadata": {},
     "output_type": "execute_result"
    },
    {
     "data": {
      "image/png": "[encoded data removed]",
      "text/plain": [
       "<matplotlib.figure.Figure at 0x7f3bbbde09d0>"
      ]
     },
     "metadata": {},
     "output_type": "display_data"
    }
   ],
   "source": [
    "triangle_items = sorted(triangle_count.items())\n",
    "fig, ax = plt.subplots()\n",
    "ax.plot([k for (k,v) in triangle_items], [v for (k,v) in triangle_items])\n",
    "ax.set_xscale('log')\n",
    "ax.set_yscale('log')\n",
    "ax.margins(0.05)\n",
    "plt.title(\"Triangle distribution of Arxiv graph\")"
   ]
  },
  {
   "cell_type": "code",
   "execution_count": 80,
   "metadata": {
    "collapsed": true
   },
   "outputs": [],
   "source": [
    "triangles_kron = nx.triangles(gcc_kron)\n",
    "triangle_count_kron = {}\n",
    "values = triangles_kron.values()\n",
    "for val in values:\n",
    "    if val not in triangle_count_kron:\n",
    "        triangle_count_kron[val] = 0\n",
    "    triangle_count_kron[val] += 1"
   ]
  },
  {
   "cell_type": "code",
   "execution_count": 81,
   "metadata": {
    "collapsed": false
   },
   "outputs": [
    {
     "data": {
      "text/plain": [
       "<matplotlib.text.Text at 0x7f3bbaf6cb90>"
      ]
     },
     "execution_count": 81,
     "metadata": {},
     "output_type": "execute_result"
    },
    {
     "data": {
      "image/png": "[encoded data removed]",
      "text/plain": [
       "<matplotlib.figure.Figure at 0x7f3baf5226d0>"
      ]
     },
     "metadata": {},
     "output_type": "display_data"
    }
   ],
   "source": [
    "triangle_items_kron = sorted(triangle_count_kron.items())\n",
    "fig, ax = plt.subplots()\n",
    "ax.plot([k for (k,v) in triangle_items_kron], [v for (k,v) in triangle_items_kron])\n",
    "ax.set_xscale('log')\n",
    "ax.set_yscale('log')\n",
    "ax.margins(0.05)\n",
    "plt.title(\"Triangle distribution of Kronecker graph\")"
   ]
  },
  {
   "cell_type": "markdown",
   "metadata": {},
   "source": [
    "#### Comparing clustering co-efficient:"
   ]
  },
  {
   "cell_type": "code",
   "execution_count": 84,
   "metadata": {
    "collapsed": true
   },
   "outputs": [],
   "source": [
    "clus_coef = nx.average_clustering(arxiv)\n",
    "clus_coef_kron = nx.average_clustering(kronecker)"
   ]
  },
  {
   "cell_type": "code",
   "execution_count": 85,
   "metadata": {
    "collapsed": false
   },
   "outputs": [
    {
     "name": "stdout",
     "output_type": "stream",
     "text": [
      "Clustering co-efficient of Arxiv graph:  0.529635811052\n",
      "Clustering co-efficient of Kronecker graph:  0.00278825366545\n"
     ]
    }
   ],
   "source": [
    "print \"Clustering co-efficient of Arxiv graph: \", clus_coef\n",
    "print \"Clustering co-efficient of Kronecker graph: \", clus_coef_kron"
   ]
  },
  {
   "cell_type": "code",
   "execution_count": null,
   "metadata": {
    "collapsed": true
   },
   "outputs": [],
   "source": []
  }
 ],
 "metadata": {
  "kernelspec": {
   "display_name": "Python 2",
   "language": "python",
   "name": "python2"
  },
  "language_info": {
   "codemirror_mode": {
    "name": "ipython",
    "version": 2
   },
   "file_extension": ".py",
   "mimetype": "text/x-python",
   "name": "python",
   "nbconvert_exporter": "python",
   "pygments_lexer": "ipython2",
   "version": "2.7.12"
  },
  "toc": {
   "colors": {
    "hover_highlight": "#DAA520",
    "running_highlight": "#FF0000",
    "selected_highlight": "#FFD700"
   },
   "moveMenuLeft": true,
   "nav_menu": {
    "height": "12px",
    "width": "252px"
   },
   "navigate_menu": true,
   "number_sections": true,
   "sideBar": true,
   "threshold": 4,
   "toc_cell": false,
   "toc_section_display": "block",
   "toc_window_display": false,
   "widenNotebook": false
  }
 },
 "nbformat": 4,
 "nbformat_minor": 2
}
